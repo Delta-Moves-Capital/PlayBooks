{
 "cells": [
  {
   "cell_type": "markdown",
   "id": "ae660c20",
   "metadata": {},
   "source": [
    "# 📊 PMCC Risk/Return Calculator\n",
    "\n",
    "This notebook models a Poor Man's Covered Call using key options data:\n",
    "\n",
    "- Long Call (LEAP): Deep ITM, synthetic long exposure\n",
    "- Short Call: Short-dated, income-generating leg\n",
    "\n",
    "## 📘 Formulas\n",
    "\n",
    "**Max Profit** = ShortCallStrike − LongCallStrike − NetDebit  \n",
    "**Max Loss** = NetDebit  \n",
    "**Breakeven** = LongCallStrike + NetDebit  \n",
    "**ROI** = MaxProfit / NetDebit  \n",
    "**Extrinsic (Short)** = OptionPriceShort − max(0, Stock − StrikeShort)  \n",
    "**Extrinsic (Long)** = OptionPriceLong − max(0, Stock − StrikeLong)\n",
    "\n",
    "You'll enter values manually or extend this to pull from API/data sources.\n"
   ]
  },
  {
   "cell_type": "code",
   "execution_count": null,
   "id": "660ecd66",
   "metadata": {
    "vscode": {
     "languageId": "plaintext"
    }
   },
   "outputs": [],
   "source": [
    "# Example calculation block\n",
    "\n",
    "long_strike = 90\n",
    "short_strike = 105\n",
    "long_price = 15\n",
    "short_price = 1.5\n",
    "stock_price = 100\n",
    "\n",
    "net_debit = long_price - short_price\n",
    "max_profit = short_strike - long_strike - net_debit\n",
    "breakeven = long_strike + net_debit\n",
    "roi = max_profit / net_debit\n",
    "\n",
    "extrinsic_short = short_price - max(0, stock_price - short_strike)\n",
    "extrinsic_long = long_price - max(0, stock_price - long_strike)\n",
    "\n",
    "{\n",
    "    \"Net Debit\": round(net_debit, 2),\n",
    "    \"Max Profit\": round(max_profit, 2),\n",
    "    \"Breakeven\": round(breakeven, 2),\n",
    "    \"ROI %\": round(roi * 100, 1),\n",
    "    \"Extrinsic Short\": round(extrinsic_short, 2),\n",
    "    \"Extrinsic Long\": round(extrinsic_long, 2),\n",
    "}\n"
   ]
  }
 ],
 "metadata": {
  "language_info": {
   "name": "python"
  }
 },
 "nbformat": 4,
 "nbformat_minor": 5
}
