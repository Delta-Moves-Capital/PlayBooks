{
 "cells": [
  {
   "cell_type": "markdown",
   "id": "a46958e5",
   "metadata": {},
   "source": [
    "# 📊 ITM Covered Call Risk/Return Profile\n",
    "\n",
    "This playbook models the **risk/reward profile** of an ITM Covered Call (ITMCC) initiated via CSP or long equity entry.\n",
    "\n",
    "## 📈 Covered Call Payoff Formula  \n",
    "Let:  \n",
    "- `S₀`: Entry price of the stock  \n",
    "- `K`: Strike price of the call sold (in-the-money)  \n",
    "- `C`: Premium received for the call  \n",
    "- `Sₜ`: Stock price at expiration  \n",
    "\n",
    "### 🔒 Max Profit:\n",
    "\\[\n",
    "\\text{Max Profit} = K - S_0 + C\n",
    "\\]\n",
    "\n",
    "### 📉 Max Loss:\n",
    "\\[\n",
    "\\text{Max Loss} = S_0 - C\n",
    "\\] *(if stock goes to 0)*\n",
    "\n",
    "### 📊 Breakeven Price:\n",
    "\\[\n",
    "\\text{Breakeven} = S_0 - C\n",
    "\\]\n",
    "\n",
    "---\n",
    "\n",
    "**Goal:** Use this notebook to plug in trade-specific numbers and calculate expected outcomes under various expiration scenarios.\n"
   ]
  }
 ],
 "metadata": {
  "language_info": {
   "name": "python"
  }
 },
 "nbformat": 4,
 "nbformat_minor": 5
}
